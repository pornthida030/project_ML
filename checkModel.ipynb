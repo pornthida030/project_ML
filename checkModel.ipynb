{
 "cells": [
  {
   "cell_type": "code",
   "execution_count": 1,
   "metadata": {},
   "outputs": [],
   "source": [
    "import pandas as pd\n",
    "# from scipy.stats.stats import mode\n",
    "from sklearn.model_selection import train_test_split\n",
    "import numpy as np\n",
    "# from sklearn.linear_model import LinearRegression\n",
    "from sklearn.linear_model import Perceptron\n",
    "from sklearn.neighbors import KNeighborsClassifier\n",
    "# from mlxtend.evaluate import bias_variance_decomp\n",
    "\n",
    "#กำหนดว่าน่าซื้อหรือไม่\n",
    "def range_price(price,avg):\n",
    "    if(price<=avg):\n",
    "        return 0\n",
    "    elif(price>avg):\n",
    "        return 1\n",
    "\n",
    "#ลองเทสกับ Perceptron algorithm\n",
    "def perceptron(x_train,y_train,x_test,y_test,input_value):\n",
    "    a=Perceptron()\n",
    "    a.fit(x_train[:,np.newaxis],y_train[:,np.newaxis])\n",
    "    score=a.score(x_test[:,np.newaxis],y_test[:,np.newaxis])\n",
    "    pre=a.predict(np.array([input_value])[:,np.newaxis])\n",
    "    # print(score)\n",
    "    return pre,score\n",
    "    \n",
    "#ลองเทสกับ  K-nearest neighbors algorithm\n",
    "def knn(x_train,y_train,x_test,y_test,input_value):\n",
    "    a=KNeighborsClassifier()\n",
    "    a.fit(x_train[:,np.newaxis],y_train[:,np.newaxis])\n",
    "    score=a.score(x_test[:,np.newaxis],y_test[:,np.newaxis])\n",
    "    pre=a.predict(np.array([input_value])[:,np.newaxis])\n",
    "    # print(score)\n",
    "    return pre,score"
   ]
  },
  {
   "cell_type": "code",
   "execution_count": 2,
   "metadata": {},
   "outputs": [],
   "source": [
    "#รับข้อมูลจาก data set\n",
    "df=pd.read_csv('noit11561118811.csv')\n",
    "type_pro=df['PR_PROD_NAME']\n",
    "date=pd.DatetimeIndex(df['PRICE_DATE']).month\n",
    "\n",
    "#เก็บประเภท\n",
    "keep_type=[]\n",
    "count=1\n",
    "for type_name in type_pro:\n",
    "    if(count==1):\n",
    "        keep_type.append(type_name)\n",
    "        count+=1\n",
    "    if(type_name in keep_type):\n",
    "        pass\n",
    "    else:\n",
    "        keep_type.append(type_name)\n",
    "        count+=1"
   ]
  },
  {
   "cell_type": "code",
   "execution_count": 3,
   "metadata": {},
   "outputs": [],
   "source": [
    "#เก็บค่าเฉลี่ยแต่ละปี\n",
    "month=[1,2,3,4,5,6,7,8,9,10,11,12]\n",
    "total={word:{mon:0 for mon in month} for word in keep_type}\n",
    "length={word:{mon:0 for mon in month} for word in keep_type}\n",
    "avg={word:{mon:0 for mon in month} for word in keep_type}\n",
    "for keep in keep_type:\n",
    "    for index,tyn in enumerate(type_pro):\n",
    "        if(keep==tyn):\n",
    "            total[keep][date[index]]+=df['PRICE_DAY'][index]\n",
    "            length[keep][date[index]]+=1\n",
    "\n",
    "for keep in keep_type:\n",
    "    for index in month:\n",
    "        if(length[keep][index]!=0):\n",
    "            # print(keep)\n",
    "            # print(length[keep][index])\n",
    "            # print(index)\n",
    "            avg[keep][index]=total[keep][index]/length[keep][index]\n",
    "            # print(avg[keep][index])"
   ]
  },
  {
   "cell_type": "code",
   "execution_count": 4,
   "metadata": {},
   "outputs": [],
   "source": [
    "#การทำนาย\n",
    "def perdict_price(input_name,input_month,input_pre):\n",
    "    # print(int(input_month))\n",
    "    n=7\n",
    "    input_month=np.int64(input_month)\n",
    "    if(input_name in keep_type):\n",
    "        if(input_month in month):\n",
    "            # print(length[input_name][input_month])\n",
    "            if(length[input_name][input_month]>=n):\n",
    "                # print(\"AAA\")\n",
    "                keep_price=[]\n",
    "                keep_rang=[]\n",
    "                for index,tyn in enumerate(type_pro):\n",
    "                    # print(input_name is tyn)\n",
    "                    if(input_name == tyn):\n",
    "                        # print(tyn)\n",
    "                        # print(type(date[index]))\n",
    "                        # print(date[index])\n",
    "                        # print(type(input_month))\n",
    "                        # print(input_month==date[index])\n",
    "                        if(input_month==date[index]):\n",
    "                            # print(date[index])\n",
    "                            price=df['PRICE_DAY'][index]\n",
    "                            keep_price.append(price)\n",
    "                            rang=range_price(price,avg[input_name][date[index]])\n",
    "                            keep_rang.append(rang)\n",
    "                x=np.array(keep_price)\n",
    "                y=np.array(keep_rang)\n",
    "                x_train,x_test,y_train,y_test=train_test_split(x,y)\n",
    "                if(len(x_train)<n and len(y_train)<n):\n",
    "                   return [4],-1\n",
    "                else:\n",
    "                    pre,score=knn(x_train,y_train,x_test,y_test,input_pre)\n",
    "                # print(pre)\n",
    "                \n",
    "                \n",
    "                # mse,bias,var=bias_variance_decomp(KNeighborsClassifier,x_train[:,np.newaxis],y_train[:,np.newaxis],x_test[:,np.newaxis],y_test[:,np.newaxis],loss='mse',\n",
    "                #  num_rounds=200, random_seed=1)\n",
    "                x_train,x_va,y_train,y_va=train_test_split(x_train,y_train)\n",
    "                if(len(x_train)<n and len(y_train)<n):\n",
    "                    return [4],-1\n",
    "                else:\n",
    "                    pre,score=knn(x_train,y_train,x_va,y_va,input_pre)\n",
    "                # print(pre)\n",
    "                x_train,x_va,y_train,y_va=train_test_split(x_train,y_train)\n",
    "                if(len(x_train)<n and len(y_train)<n):\n",
    "                    return [4],-1\n",
    "                else:\n",
    "                    pre,score=knn(x_train,y_train,x_va,y_va,input_pre)\n",
    "                return pre,score\n",
    "            else:    \n",
    "                return [4],-1\n",
    "        else:\n",
    "            return [3],-1\n",
    "    else:\n",
    "        return [2],-1\n"
   ]
  },
  {
   "cell_type": "code",
   "execution_count": 5,
   "metadata": {},
   "outputs": [],
   "source": [
    "#คืนค่าของชื่อสินค้าทั้งหมด\n",
    "def getType():\n",
    "    return keep_type\n",
    "#คืนค่าเฉลี่ยของสินค้านั้น\n",
    "def getavg(input_name,input_month):\n",
    "    return avg[input_name][input_month]"
   ]
  },
  {
   "cell_type": "code",
   "execution_count": 6,
   "metadata": {},
   "outputs": [
    {
     "name": "stdout",
     "output_type": "stream",
     "text": [
      "Perdict: [1]\n",
      "Score: 1.0\n"
     ]
    },
    {
     "name": "stderr",
     "output_type": "stream",
     "text": [
      "C:\\Users\\Ploy^^\\AppData\\Local\\Programs\\Python\\Python37\\lib\\site-packages\\sklearn\\neighbors\\_classification.py:198: DataConversionWarning: A column-vector y was passed when a 1d array was expected. Please change the shape of y to (n_samples,), for example using ravel().\n",
      "  return self._fit(X, y)\n",
      "C:\\Users\\Ploy^^\\AppData\\Local\\Programs\\Python\\Python37\\lib\\site-packages\\sklearn\\neighbors\\_classification.py:198: DataConversionWarning: A column-vector y was passed when a 1d array was expected. Please change the shape of y to (n_samples,), for example using ravel().\n",
      "  return self._fit(X, y)\n",
      "C:\\Users\\Ploy^^\\AppData\\Local\\Programs\\Python\\Python37\\lib\\site-packages\\sklearn\\neighbors\\_classification.py:198: DataConversionWarning: A column-vector y was passed when a 1d array was expected. Please change the shape of y to (n_samples,), for example using ravel().\n",
      "  return self._fit(X, y)\n"
     ]
    }
   ],
   "source": [
    "pre,score=perdict_price(\"ไข่ไก่เบอร์ 4\",12,300)\n",
    "print(\"Perdict:\",pre)\n",
    "print(\"Score:\",score)"
   ]
  },
  {
   "cell_type": "code",
   "execution_count": null,
   "metadata": {},
   "outputs": [],
   "source": []
  }
 ],
 "metadata": {
  "interpreter": {
   "hash": "bede884141997063889a342c9439d3e46046192da3aebf749a2449171d71a81c"
  },
  "kernelspec": {
   "display_name": "Python 3",
   "language": "python",
   "name": "python3"
  },
  "language_info": {
   "codemirror_mode": {
    "name": "ipython",
    "version": 3
   },
   "file_extension": ".py",
   "mimetype": "text/x-python",
   "name": "python",
   "nbconvert_exporter": "python",
   "pygments_lexer": "ipython3",
   "version": "3.7.9"
  }
 },
 "nbformat": 4,
 "nbformat_minor": 2
}
